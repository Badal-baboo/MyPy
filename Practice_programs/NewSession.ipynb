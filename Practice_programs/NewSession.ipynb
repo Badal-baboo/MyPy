{
 "cells": [
  {
   "cell_type": "markdown",
   "id": "6e80549f",
   "metadata": {},
   "source": [
    "# Control Statement in python"
   ]
  },
  {
   "cell_type": "code",
   "execution_count": null,
   "id": "0d039e7b",
   "metadata": {},
   "outputs": [],
   "source": [
    "#For Loop\n",
    "'''Syntax of Python for Loop\n",
    " for iterator_var in sequence:\n",
    "    statements(s)'''"
   ]
  },
  {
   "cell_type": "code",
   "execution_count": 9,
   "id": "243299e4",
   "metadata": {},
   "outputs": [
    {
     "name": "stdout",
     "output_type": "stream",
     "text": [
      "List Iteration\n",
      "You\n",
      "know\n",
      "who\n",
      "i\n",
      "am\n"
     ]
    }
   ],
   "source": [
    "# Iterating over a list\n",
    "print(\"List Iteration\")\n",
    "l = [\"You\", \"know\",\"who\", \"i\",\"am\"]# here the l is List\n",
    "for i in l:\n",
    "    print(i)"
   ]
  },
  {
   "cell_type": "code",
   "execution_count": 10,
   "id": "25d803b4",
   "metadata": {},
   "outputs": [
    {
     "name": "stdout",
     "output_type": "stream",
     "text": [
      "You\n",
      "know\n",
      "who\n",
      "i\n",
      "am\n",
      "Bella\n"
     ]
    }
   ],
   "source": [
    "l.append(\"Bella\")#See here i can change the data in the list so itis (mutable)\n",
    "for i in l :\n",
    "    print(i)"
   ]
  },
  {
   "cell_type": "code",
   "execution_count": 6,
   "id": "2f17562b",
   "metadata": {},
   "outputs": [
    {
     "name": "stdout",
     "output_type": "stream",
     "text": [
      "Tuple Iteration\n",
      "Sedhe\n",
      "Maut\n",
      "ke\n",
      "Bina\n",
      "kya Jeevan\n"
     ]
    }
   ],
   "source": [
    "# Iterating over a tuple (immutable)\n",
    "print(\"Tuple Iteration\")\n",
    "t = (\"Sedhe\", \"Maut\", \"ke\",\"Bina\",\"kya Jeevan\")\n",
    "for i in t:\n",
    "    print(i)"
   ]
  },
  {
   "cell_type": "code",
   "execution_count": 13,
   "id": "201efa8b",
   "metadata": {},
   "outputs": [
    {
     "ename": "AttributeError",
     "evalue": "'tuple' object has no attribute 'append'",
     "output_type": "error",
     "traceback": [
      "\u001b[1;31m---------------------------------------------------------------------------\u001b[0m",
      "\u001b[1;31mAttributeError\u001b[0m                            Traceback (most recent call last)",
      "Cell \u001b[1;32mIn[13], line 1\u001b[0m\n\u001b[1;32m----> 1\u001b[0m t\u001b[38;5;241m.\u001b[39mappend(\u001b[38;5;124m\"\u001b[39m\u001b[38;5;124mTBSM\u001b[39m\u001b[38;5;124m\"\u001b[39m)\n\u001b[0;32m      2\u001b[0m t\n",
      "\u001b[1;31mAttributeError\u001b[0m: 'tuple' object has no attribute 'append'"
     ]
    }
   ],
   "source": [
    "t.append(\"TBSM\")\n",
    "t"
   ]
  },
  {
   "cell_type": "code",
   "execution_count": null,
   "id": "7932f31d",
   "metadata": {},
   "outputs": [],
   "source": []
  }
 ],
 "metadata": {
  "kernelspec": {
   "display_name": "Python 3 (ipykernel)",
   "language": "python",
   "name": "python3"
  },
  "language_info": {
   "codemirror_mode": {
    "name": "ipython",
    "version": 3
   },
   "file_extension": ".py",
   "mimetype": "text/x-python",
   "name": "python",
   "nbconvert_exporter": "python",
   "pygments_lexer": "ipython3",
   "version": "3.11.3"
  }
 },
 "nbformat": 4,
 "nbformat_minor": 5
}
