{
 "cells": [
  {
   "cell_type": "markdown",
   "id": "ddafb0e9",
   "metadata": {},
   "source": [
    "# My Practice Conditional Statement"
   ]
  },
  {
   "cell_type": "code",
   "execution_count": 1,
   "id": "ddfbffcd",
   "metadata": {},
   "outputs": [
    {
     "name": "stdout",
     "output_type": "stream",
     "text": [
      "Work Hard\n"
     ]
    },
    {
     "data": {
      "text/plain": [
       "<function print(*args, sep=' ', end='\\n', file=None, flush=False)>"
      ]
     },
     "execution_count": 1,
     "metadata": {},
     "output_type": "execute_result"
    }
   ],
   "source": [
    "print(\"Work Hard\")\n",
    "print"
   ]
  },
  {
   "cell_type": "code",
   "execution_count": 4,
   "id": "5dc054db",
   "metadata": {},
   "outputs": [
    {
     "name": "stdout",
     "output_type": "stream",
     "text": [
      "Enter A number12\n",
      "Enter 2nd Number10\n",
      "Num1 is greater than Num2\n",
      "Ended\n"
     ]
    }
   ],
   "source": [
    "#Example for the if condition\n",
    "Num1 = int(input(\"Enter A number\"))\n",
    "Num2 = int(input(\"Enter 2nd Number\"))\n",
    "if Num1 > Num2:\n",
    "    print(\"Num1 is greater than Num2\")\n",
    "print(\"Ended\")"
   ]
  },
  {
   "cell_type": "code",
   "execution_count": 7,
   "id": "db64140e",
   "metadata": {},
   "outputs": [
    {
     "name": "stdout",
     "output_type": "stream",
     "text": [
      "Enter A number0\n",
      "Enter 2nd Number1\n",
      "Zero Nahi dalne ka\n"
     ]
    }
   ],
   "source": [
    "#Example for if else\n",
    "Num1 = int(input(\"Enter A number\"))\n",
    "Num2 = int(input(\"Enter 2nd Number\"))\n",
    "if(Num1 == 0):\n",
    "    print(\"Zero Nahi dalne ka\")\n",
    "else:\n",
    "    print(\"Enter a Valid number\")"
   ]
  },
  {
   "cell_type": "code",
   "execution_count": 11,
   "id": "59aa5b2e",
   "metadata": {},
   "outputs": [
    {
     "name": "stdout",
     "output_type": "stream",
     "text": [
      "Enter A number4\n",
      "Enter 2nd Number10\n",
      "number thik se daal\n"
     ]
    }
   ],
   "source": [
    "#Example for if else\n",
    "Num1 = int(input(\"Enter A number\"))\n",
    "Num2 = int(input(\"Enter 2nd Number\"))\n",
    "if Num1 > Num2:\n",
    "    print(\"Num1 is greater than Num2\")\n",
    "else:\n",
    "    print(\"number thik se daal\")"
   ]
  },
  {
   "cell_type": "code",
   "execution_count": null,
   "id": "036fc63b",
   "metadata": {},
   "outputs": [],
   "source": [
    "#example of Nested if statement(if-else statement inside another if statement)\n",
    "# if..else chain statement\n",
    "letter = input(\"Enter a lettter\")\n",
    "\n",
    "if letter == \"B\":\n",
    "    print(\"letter is B\")\n",
    "\n",
    "else:\n",
    "\n",
    "    if letter == \"C\":\n",
    "        print(\"letter is C\")\n",
    "\n",
    "    else:\n",
    "\n",
    "        if letter == \"A\":\n",
    "            print(\"letter is A\")\n",
    "\n",
    "        else:\n",
    "            print(\"letter isn't A, B and C\")"
   ]
  },
  {
   "cell_type": "code",
   "execution_count": null,
   "id": "49d6e778",
   "metadata": {},
   "outputs": [],
   "source": []
  },
  {
   "cell_type": "code",
   "execution_count": null,
   "id": "13f087fa",
   "metadata": {},
   "outputs": [],
   "source": []
  }
 ],
 "metadata": {
  "kernelspec": {
   "display_name": "Python 3 (ipykernel)",
   "language": "python",
   "name": "python3"
  },
  "language_info": {
   "codemirror_mode": {
    "name": "ipython",
    "version": 3
   },
   "file_extension": ".py",
   "mimetype": "text/x-python",
   "name": "python",
   "nbconvert_exporter": "python",
   "pygments_lexer": "ipython3",
   "version": "3.11.3"
  }
 },
 "nbformat": 4,
 "nbformat_minor": 5
}
