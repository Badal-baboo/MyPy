{
 "cells": [
  {
   "cell_type": "code",
   "execution_count": 1,
   "id": "b8040e29",
   "metadata": {},
   "outputs": [
    {
     "name": "stdout",
     "output_type": "stream",
     "text": [
      "8\n"
     ]
    }
   ],
   "source": [
    "#WAP to print the power\n",
    "def power(base, exponent):\n",
    "    if exponent == 0:\n",
    "        return 1\n",
    "    else:\n",
    "        return base * power(base, exponent - 1)\n",
    "result = power(2, 3)\n",
    "print(result) \n"
   ]
  },
  {
   "cell_type": "code",
   "execution_count": 3,
   "id": "2dda3b75",
   "metadata": {},
   "outputs": [
    {
     "name": "stdout",
     "output_type": "stream",
     "text": [
      "256\n"
     ]
    }
   ],
   "source": [
    "def powe(x,y):\n",
    "    if y == 0:\n",
    "        return 1\n",
    "    else:\n",
    "        return x * powe(x,y-1)\n",
    "result = powe(4,4)\n",
    "print(result)\n",
    "    "
   ]
  },
  {
   "cell_type": "code",
   "execution_count": 4,
   "id": "c5b1ff49",
   "metadata": {},
   "outputs": [
    {
     "name": "stdout",
     "output_type": "stream",
     "text": [
      "8\n"
     ]
    }
   ],
   "source": [
    "def power(base, exponent):\n",
    "    return 1 if exponent == 0 else base * power(base, exponent - 1)\n",
    "result = power(2, 3)  # Calculates 2^3\n",
    "print(result)  # Output: 8\n"
   ]
  },
  {
   "cell_type": "code",
   "execution_count": null,
   "id": "2e62e485",
   "metadata": {},
   "outputs": [],
   "source": [
    "def pwo(x, y):\n",
    "    if y == 0:  # Base case: any number to the power of 0 is 1\n",
    "        return 1\n",
    "    elif y % 2 == 0:  # If y is even\n",
    "        half_power = pwo(x, y // 2)\n",
    "        return half_power * half_power\n",
    "    else:  # If y is odd\n",
    "        half_power = pwo(x, y // 2)\n",
    "        return half_power * half_power * x\n",
    "\n",
    "print(pwo(2, 3))  # Output: 8\n"
   ]
  },
  {
   "cell_type": "code",
   "execution_count": 9,
   "id": "99206c77",
   "metadata": {},
   "outputs": [
    {
     "name": "stdout",
     "output_type": "stream",
     "text": [
      "8\n"
     ]
    }
   ],
   "source": [
    "def pwo(x, y):\n",
    "    if y == 0:  # Base case: any number to the power of 0 is 1\n",
    "        return 1\n",
    "    elif y % 2 == 0:  # If y is even\n",
    "        half_power = pwo(x, y // 2)\n",
    "        return half_power * half_power\n",
    "    else:  # If y is odd\n",
    "        half_power = pwo(x, y // 2)\n",
    "        return half_power * half_power * x\n",
    "\n",
    "print(pwo(2, 3))  # Output: 8\n"
   ]
  },
  {
   "cell_type": "code",
   "execution_count": 14,
   "id": "ae97c093",
   "metadata": {},
   "outputs": [
    {
     "name": "stdout",
     "output_type": "stream",
     "text": [
      "10\n"
     ]
    }
   ],
   "source": [
    "#WAP to print NCR\n",
    "def nCr(n, r):\n",
    "    if r > n:\n",
    "        return 0\n",
    "    if r == 0 or r == n:\n",
    "        return 1\n",
    "    return nCr(n - 1, r - 1) + nCr(n - 1, r)  # Using Pascal's Method \n",
    "print(nCr(5,2))  "
   ]
  },
  {
   "cell_type": "code",
   "execution_count": 19,
   "id": "9b745456",
   "metadata": {},
   "outputs": [
    {
     "name": "stdout",
     "output_type": "stream",
     "text": [
      "12\n"
     ]
    }
   ],
   "source": [
    "#calculate GCD with recursion\n",
    "def gcd(a, b):\n",
    "    if b == 0:\n",
    "        return a\n",
    "    return gcd(b, a % b)\n",
    "print(gcd(48,12))"
   ]
  },
  {
   "cell_type": "code",
   "execution_count": null,
   "id": "1a3325f8",
   "metadata": {},
   "outputs": [],
   "source": []
  }
 ],
 "metadata": {
  "kernelspec": {
   "display_name": "Python 3 (ipykernel)",
   "language": "python",
   "name": "python3"
  },
  "language_info": {
   "codemirror_mode": {
    "name": "ipython",
    "version": 3
   },
   "file_extension": ".py",
   "mimetype": "text/x-python",
   "name": "python",
   "nbconvert_exporter": "python",
   "pygments_lexer": "ipython3",
   "version": "3.11.3"
  }
 },
 "nbformat": 4,
 "nbformat_minor": 5
}
